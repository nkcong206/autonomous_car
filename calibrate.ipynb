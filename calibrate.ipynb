{
 "cells": [
  {
   "cell_type": "code",
   "execution_count": 1,
   "metadata": {},
   "outputs": [
    {
     "name": "stderr",
     "output_type": "stream",
     "text": [
      "WARNING: Carrier board is not from a Jetson Developer Kit.\n",
      "WARNNIG: Jetson.GPIO library has not been verified with this carrier board,\n",
      "WARNING: and in fact is unlikely to work correctly.\n"
     ]
    }
   ],
   "source": [
    "from pop import Pilot\n",
    "Car = Pilot.AutoCar()"
   ]
  },
  {
   "cell_type": "code",
   "execution_count": 4,
   "metadata": {},
   "outputs": [],
   "source": [
    "Car.setSensorStatus(euler=1)"
   ]
  },
  {
   "cell_type": "code",
   "execution_count": 3,
   "metadata": {},
   "outputs": [
    {
     "name": "stdout",
     "output_type": "stream",
     "text": [
      "0 0 0 3\n",
      "0 0 0 3\n",
      "0 0 0 3\n",
      "0 0 0 3\n",
      "0 0 0 3\n",
      "0 0 0 3\n",
      "2 0 1 3\n",
      "0 0 1 3\n",
      "3 1 1 3\n",
      "0 1 1 3\n",
      "0 1 2 3\n",
      "0 1 2 3\n",
      "0 1 2 3\n",
      "0 1 2 3\n",
      "0 0 2 3\n",
      "0 0 2 3\n",
      "0 0 2 3\n",
      "0 0 2 3\n",
      "0 0 2 3\n",
      "0 0 3 3\n",
      "0 0 3 3\n",
      "0 0 3 3\n",
      "0 0 3 3\n",
      "0 0 3 3\n",
      "0 0 3 3\n",
      "0 0 3 3\n",
      "0 1 3 3\n",
      "0 1 3 3\n",
      "0 1 3 3\n",
      "0 1 3 3\n",
      "0 1 3 3\n",
      "0 1 3 3\n",
      "0 1 3 3\n",
      "0 1 0 3\n",
      "0 1 0 3\n",
      "0 3 0 3\n",
      "0 3 3 3\n",
      "0 3 3 3\n",
      "0 3 3 3\n",
      "0 3 3 3\n",
      "0 3 3 3\n",
      "0 3 3 3\n",
      "0 3 3 3\n",
      "0 3 3 3\n",
      "0 3 3 3\n",
      "0 3 3 3\n",
      "0 3 3 3\n",
      "0 3 3 3\n",
      "0 3 3 3\n",
      "0 3 3 3\n",
      "3 3 3 3\n",
      "Calibration Completed.\n"
     ]
    }
   ],
   "source": [
    "Car.setCalibration()"
   ]
  },
  {
   "cell_type": "code",
   "execution_count": 5,
   "metadata": {},
   "outputs": [
    {
     "data": {
      "text/plain": [
       "317.125"
      ]
     },
     "execution_count": 5,
     "metadata": {},
     "output_type": "execute_result"
    }
   ],
   "source": [
    "Car.getEuler('yaw')"
   ]
  }
 ],
 "metadata": {
  "kernelspec": {
   "display_name": "Python 3",
   "language": "python",
   "name": "python3"
  },
  "language_info": {
   "codemirror_mode": {
    "name": "ipython",
    "version": 3
   },
   "file_extension": ".py",
   "mimetype": "text/x-python",
   "name": "python",
   "nbconvert_exporter": "python",
   "pygments_lexer": "ipython3",
   "version": "3.6.9"
  }
 },
 "nbformat": 4,
 "nbformat_minor": 2
}
