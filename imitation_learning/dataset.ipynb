{
 "cells": [
  {
   "cell_type": "code",
   "execution_count": 2,
   "id": "37337911",
   "metadata": {},
   "outputs": [
    {
     "name": "stdout",
     "output_type": "stream",
     "text": [
      "<Response [200]>\n",
      "[[105.80065, 21.04833], [105.800362, 21.048339], [105.800354, 21.04874], [105.800099, 21.048736], [105.800096, 21.04893]]\n",
      "[1, -1, 1]\n"
     ]
    }
   ],
   "source": [
    "import requests\n",
    "import json\n",
    "\n",
    "pls = []\n",
    "action = []\n",
    "start = \"21.04833, 105.80065\"\n",
    "end = \"21.04893, 105.80010\"\n",
    "\n",
    "start_list = start.split(',')\n",
    "\n",
    "start_reversed = ','.join([start_list[1], start_list[0]])\n",
    "pls.append([float(start_list[1]),float(start_list[0])])\n",
    "\n",
    "end_list = end.split(',')\n",
    "\n",
    "end_reversed = ','.join([end_list[1], end_list[0]])\n",
    "\n",
    "url = f\"http://123.24.206.120:5556/ors/v2/directions/foot-walking?start={start_reversed}&end={end_reversed}\"\n",
    "\n",
    "res = requests.get(url)\n",
    "\n",
    "print(res)\n",
    "decoded_data = json.loads(res.content)\n",
    "\n",
    "coordinates_list = []\n",
    "features = decoded_data['features']\n",
    "for feature in features:\n",
    "    geometry = feature['geometry']\n",
    "    if geometry['type'] == 'LineString':\n",
    "        line_coords = geometry['coordinates']\n",
    "        coordinates_list.extend(line_coords)\n",
    "        segments = feature['properties']['segments']\n",
    "        for segment in segments:\n",
    "            steps = segment['steps'][:-1]\n",
    "            for step in steps:\n",
    "                instruction = step['instruction']\n",
    "                way_points = step['way_points']\n",
    "                step_end_coords = line_coords[way_points[1]]\n",
    "                if \"right\" in instruction.lower():\n",
    "                    action.append(1)\n",
    "                elif \"left\" in instruction.lower():\n",
    "                    action.append(-1)                    \n",
    "                pls.append(step_end_coords) \n",
    "print(pls)\n",
    "print(action)\n"
   ]
  },
  {
   "cell_type": "code",
   "execution_count": 6,
   "id": "d2db8d56",
   "metadata": {},
   "outputs": [],
   "source": [
    "import per\n",
    "\n",
    "per = per.Perception()"
   ]
  },
  {
   "cell_type": "code",
   "execution_count": 16,
   "id": "453da243",
   "metadata": {},
   "outputs": [
    {
     "name": "stdout",
     "output_type": "stream",
     "text": [
      "32.025298162278105\n",
      "[74.19952985781019, 21.048335620519076]\n",
      "[105.80065, 21.04833]\n",
      "3513884.236096689\n"
     ]
    }
   ],
   "source": [
    "pl_id = 0\n",
    "a = per.distance_cal(pls[pl_id], pls[pl_id+1])\n",
    "print(a)\n",
    "be = per.bearing_cal(pls[pl_id], pls[pl_id+1])\n",
    "current_position = per.create_new_point(pls[pl_id], 20 , be)\n",
    "print(current_position)\n",
    "print(pls[pl_id])\n",
    "dis1 = per.distance_cal(current_position, pls[pl_id])\n",
    "dis2 = per.distance_cal(current_position, pls[pl_id+1])\n",
    "print(dis1)"
   ]
  },
  {
   "cell_type": "code",
   "execution_count": null,
   "id": "68d536c7",
   "metadata": {},
   "outputs": [],
   "source": [
    "\n",
    "if dis2 < dis_gps:\n",
    "    self.pl_id +=1\n",
    "if dis1 < dis_gps or dis2 < dis_gps:\n",
    "    action = self.action[self.pl_id]\n",
    "    \n",
    "matrix = self.lidar.getMap(size, limit_distance)"
   ]
  },
  {
   "cell_type": "code",
   "execution_count": null,
   "metadata": {},
   "outputs": [],
   "source": [
    "# • connect() : Connects LiDAR\n",
    "# • startMotor() : Starts LiDAR scanning motor\n",
    "# • stopMotor() : Stops LiDAR scanning motor\n",
    "# • getVertors() : Returns a list of vector value tuples (Degree, Distance, Quality) scanned during one\n",
    "# rotation in ascending order based on the angle\n",
    "# • getXY() : Returns a list of coordinate value tuples (X, Y) scanned during one rotation in ascending order\n",
    "# based on angle\n",
    "# • getMap(size, limit_distance) : Returns the value scanned during one rotation as a 2D map\n",
    "# - size : The size of the map to return. default: (300, 300)\n",
    "# - limit_distance : The maximum distance to be displayed on the map, if set to 2000, only values less\n",
    "# than 2000mm are reflected on the map. default : 12000"
   ]
  },
  {
   "cell_type": "code",
   "execution_count": null,
   "id": "588b3436",
   "metadata": {},
   "outputs": [],
   "source": []
  }
 ],
 "metadata": {
  "kernelspec": {
   "display_name": "Python 3",
   "language": "python",
   "name": "python3"
  },
  "language_info": {
   "codemirror_mode": {
    "name": "ipython",
    "version": 3
   },
   "file_extension": ".py",
   "mimetype": "text/x-python",
   "name": "python",
   "nbconvert_exporter": "python",
   "pygments_lexer": "ipython3",
   "version": "3.10.12"
  }
 },
 "nbformat": 4,
 "nbformat_minor": 5
}
